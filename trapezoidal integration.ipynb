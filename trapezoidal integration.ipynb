{
 "cells": [
  {
   "cell_type": "markdown",
   "id": "6247f661",
   "metadata": {},
   "source": [
    "Coding problem [10 points]\n",
    "\n",
    "\n",
    "Calculate$\\int_0^1 e^{x^2}dx$ accurate to  0.0001 using the trapezoid rule. Name your notebook as FinalCodeFirstLast.ipynb.\n",
    "\n"
   ]
  },
  {
   "cell_type": "markdown",
   "id": "991022b0",
   "metadata": {},
   "source": [
    "The trapezoid rule for N subintervals of [a,b] of equal length is: $T_N(f) = \\frac{\\Delta x}{2} \\sum_{i=1}^{N}(f(x_i) + f(x_{i-1})) $ <br>\n",
    "where $\\Delta x = (b - a) / N$ is the length of the subintervals and $x_i = a + i \\Delta x$ <br>\n",
    "The Error bound is $E_{N}^{T}(f) = \\bigg\\vert \\int_{a}^b f(x)dx - T_N(f) \\bigg\\vert \\leq \\frac{(b-a)^3}{12N^2}K_2$ <br>\n",
    "where $\\vert f''(x) \\vert \\leq K_2 $ for all $x \\in [a,b]$"
   ]
  },
  {
   "cell_type": "code",
   "execution_count": 21,
   "id": "96a7fed0",
   "metadata": {},
   "outputs": [
    {
     "name": "stdout",
     "output_type": "stream",
     "text": [
      "n =  1837\n",
      "delta_x 0.0005443658138268917\n",
      "result =  1.4626518801604578\n"
     ]
    }
   ],
   "source": [
    "# Modify the code below to implement the integration \n",
    "# Your modified code should produce the right answer    \n",
    "\n",
    "import sys\n",
    "import numpy as np\n",
    "import math\n",
    "from scipy.misc import derivative\n",
    "\n",
    "\n",
    "def f(x):\n",
    "    # implement the function here\n",
    "    return np.exp(x**2)\n",
    "    \n",
    "    \n",
    "def calculate_number_intervals(tolerance):\n",
    "# use the error bound formulae for each method\n",
    "    n = -999\n",
    "    # implement here\n",
    "    K_2 = derivative(f,2)\n",
    "    return math.floor(math.sqrt(K_2/(12 * tolerance)))\n",
    "        \n",
    "\n",
    "\n",
    "def calculate_delta_x(n, lower_bound, upper_bound):\n",
    "    # gives the length of each interval\n",
    "    delta_x = (upper_bound - lower_bound) / n # implement here\n",
    "    return delta_x\n",
    "    \n",
    "    \n",
    "def trapezoid_method(delta_x, n):\n",
    "\n",
    "    # initialize the variable that holds the integral as 0\n",
    "    sum_trap = 0.0\n",
    "    # loop over all the sub-intervals\n",
    "    for i in range (n):\n",
    "        \n",
    "        x_l  = i*delta_x # lower bd of sub-interval\n",
    "        x_u = x_l + delta_x # upper bd of the subinterval\n",
    "        \n",
    "        sum_trap +=  (f(x_u) + f(x_l))# implement here\n",
    "    return (delta_x * sum_trap )/ 2\n",
    "    \n",
    "\n",
    "    \n",
    "\n",
    "      \n",
    "\n",
    "# Your modified code should produce the right answer for the running of the following lines of code  \n",
    "\n",
    "# problem parameters\n",
    "epsilon = 0.0001 # the error tolerance\n",
    "lower_bd = 0.0\n",
    "upper_bd = 1.0\n",
    "\n",
    "\n",
    "\n",
    "# calculate how many sub intervals are required for achieving the error tolerance\n",
    "n = calculate_number_intervals(epsilon)\n",
    "print(\"n = \", n)\n",
    "if (n == -999):\n",
    "    print(\"Calculate the number of intervals correctly!\")\n",
    "    sys.exit()\n",
    "\n",
    "\n",
    "# calculate the corresponding interval length\n",
    "delta_x = calculate_delta_x(n, lower_bd, upper_bd)\n",
    "print(\"delta_x\", delta_x)\n",
    "\n",
    "\n",
    "\n",
    "# calculation for the trapezoid method\n",
    "result = trapezoid_method(delta_x, n)  \n",
    "print(\"result = \", result)"
   ]
  },
  {
   "cell_type": "code",
   "execution_count": null,
   "id": "d22f7779",
   "metadata": {},
   "outputs": [],
   "source": []
  }
 ],
 "metadata": {
  "kernelspec": {
   "display_name": "Python 3",
   "language": "python",
   "name": "python3"
  },
  "language_info": {
   "codemirror_mode": {
    "name": "ipython",
    "version": 3
   },
   "file_extension": ".py",
   "mimetype": "text/x-python",
   "name": "python",
   "nbconvert_exporter": "python",
   "pygments_lexer": "ipython3",
   "version": "3.8.8"
  }
 },
 "nbformat": 4,
 "nbformat_minor": 5
}
