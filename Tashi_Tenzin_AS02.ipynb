{
 "cells": [
  {
   "cell_type": "markdown",
   "metadata": {},
   "source": [
    "# Tenzin Tashi\n",
    "## CSc 301\n",
    "### Assignment 2"
   ]
  },
  {
   "cell_type": "markdown",
   "metadata": {},
   "source": [
    "<center><h2> Code</h2> </center>"
   ]
  },
  {
   "cell_type": "code",
   "execution_count": 1,
   "metadata": {},
   "outputs": [],
   "source": [
    "# library\n",
    "import math\n",
    "import time"
   ]
  },
  {
   "cell_type": "code",
   "execution_count": 2,
   "metadata": {},
   "outputs": [],
   "source": [
    "# Naive summation\n",
    "def naive_sum(N):\n",
    "    s = 0\n",
    "    for i in range(N):\n",
    "        s += math.sqrt(19)\n",
    "    return s"
   ]
  },
  {
   "cell_type": "code",
   "execution_count": 3,
   "metadata": {},
   "outputs": [],
   "source": [
    "# Compensated summation\n",
    "def compensated_sum(N):\n",
    "    s, e = 0 , 0\n",
    "    for i in range(N):    \n",
    "        temp = s\n",
    "        y = math.sqrt(19) + e\n",
    "        s = temp + y\n",
    "        e = (temp - s) + y\n",
    "    return s + e"
   ]
  },
  {
   "cell_type": "code",
   "execution_count": 4,
   "metadata": {},
   "outputs": [],
   "source": [
    "# Exact Sum\n",
    "def exact_sum(N):\n",
    "    return N * math.sqrt(19)"
   ]
  },
  {
   "cell_type": "code",
   "execution_count": 5,
   "metadata": {
    "scrolled": false
   },
   "outputs": [
    {
     "name": "stdout",
     "output_type": "stream",
     "text": [
      "For N = 1000 Exact Sum = 4358.898943540674\n",
      "Naive Sum = 4358.898943540652\n",
      "Absolute Error = 2.1827872842550278e-11\n",
      "Relative Error = 5.007657467006977e-15\n",
      "Time Elapsed = 0.0002980232238769531 \n",
      "\n",
      "Compensated Sum = 4358.898943540674\n",
      "Absolute Error = 0.0\n",
      "Relative Error = 0.0\n",
      "Time Elapsed = 0.00036787986755371094\n",
      "--------------------------------------------------\n",
      "For N = 10000 Exact Sum = 43588.98943540674\n",
      "Naive Sum = 43588.98943540103\n",
      "Absolute Error = 5.704350769519806e-09\n",
      "Relative Error = 1.30866781804449e-13\n",
      "Time Elapsed = 0.0017571449279785156 \n",
      "\n",
      "Compensated Sum = 43588.98943540674\n",
      "Absolute Error = 0.0\n",
      "Relative Error = 0.0\n",
      "Time Elapsed = 0.0022439956665039062\n",
      "--------------------------------------------------\n",
      "For N = 100000 Exact Sum = 435889.8943540674\n",
      "Naive Sum = 435889.8943536333\n",
      "Absolute Error = 4.341127350926399e-07\n",
      "Relative Error = 9.959229170383476e-13\n",
      "Time Elapsed = 0.01634526252746582 \n",
      "\n",
      "Compensated Sum = 435889.8943540674\n",
      "Absolute Error = 0.0\n",
      "Relative Error = 0.0\n",
      "Time Elapsed = 0.020445823669433594\n",
      "--------------------------------------------------\n",
      "For N = 1000000 Exact Sum = 4358898.943540674\n",
      "Naive Sum = 4358898.943627511\n",
      "Absolute Error = 8.683744817972183e-05\n",
      "Relative Error = 1.9921876901597763e-11\n",
      "Time Elapsed = 0.11964797973632812 \n",
      "\n",
      "Compensated Sum = 4358898.943540674\n",
      "Absolute Error = 0.0\n",
      "Relative Error = 0.0\n",
      "Time Elapsed = 0.17839503288269043\n",
      "--------------------------------------------------\n",
      "For N = 10000000 Exact Sum = 43588989.43540674\n",
      "Naive Sum = 43588989.44469575\n",
      "Absolute Error = 0.009289011359214783\n",
      "Relative Error = 2.1310453579062438e-10\n",
      "Time Elapsed = 1.1852757930755615 \n",
      "\n",
      "Compensated Sum = 43588989.43540674\n",
      "Absolute Error = 0.0\n",
      "Relative Error = 0.0\n",
      "Time Elapsed = 1.9144158363342285\n",
      "--------------------------------------------------\n",
      "For N = 100000000 Exact Sum = 435889894.3540674\n",
      "Naive Sum = 435889893.87809396\n",
      "Absolute Error = 0.4759734272956848\n",
      "Relative Error = 1.09195793125926e-09\n",
      "Time Elapsed = 11.845547914505005 \n",
      "\n",
      "Compensated Sum = 435889894.3540674\n",
      "Absolute Error = 0.0\n",
      "Relative Error = 0.0\n",
      "Time Elapsed = 17.098793029785156\n",
      "--------------------------------------------------\n"
     ]
    }
   ],
   "source": [
    "for N in [10**3, 10**4, 10**5, 10**6, 10**7, 10**8]:\n",
    "    # exact value\n",
    "    exact = exact_sum(N)\n",
    "    print(f'For N = {N} Exact Sum = {exact}')\n",
    "    # calculate the elapsed time for naive method\n",
    "    start_time = time.time()\n",
    "    naive = naive_sum(N)\n",
    "    end_time = time.time()\n",
    "    elapsed_time = end_time - start_time\n",
    "    print(f'Naive Sum = {naive}')\n",
    "    # find the absolute and realtive error\n",
    "    print(f'Absolute Error = {abs(naive - exact)}')\n",
    "    print(f'Relative Error = {abs((naive - exact)/exact)}')\n",
    "    print(f'Time Elapsed = {elapsed_time} \\n')\n",
    "    # calculate the elapsed time for compensated method\n",
    "    start_time = time.time()\n",
    "    compensated = compensated_sum(N)\n",
    "    end_time = time.time()\n",
    "    elapsed_time = end_time - start_time\n",
    "    print(f'Compensated Sum = {compensated}')\n",
    "    # find the absolute and realtive error\n",
    "    print(f'Absolute Error = {abs(compensated - exact)}')\n",
    "    print(f'Relative Error = {abs((compensated - exact)/exact)}')\n",
    "    print(f'Time Elapsed = {elapsed_time}')\n",
    "    print('-'*50)"
   ]
  },
  {
   "cell_type": "markdown",
   "metadata": {},
   "source": [
    "<center><h2>  Analyze </h2></center>"
   ]
  },
  {
   "cell_type": "markdown",
   "metadata": {},
   "source": [
    "<div>From the above code we can analyze that the <strong>Compensated Sum</strong> is more accurate than the <strong>Naive Sum</strong> but  Compensated sum takes much <strong>longer time</strong> than Naive Sum to compute.</div>\n",
    "<div>\n",
    "The difference between Naive and Exact sums is due to the steps within the Naive sum's approach. With each iteration for the Naive method, The values when operated on, are being rounded, thus causing for a difference in accuracy and the increase in difference with each iteration.\n",
    "</div>"
   ]
  },
  {
   "cell_type": "markdown",
   "metadata": {},
   "source": [
    "<center><h2>Collaborate</h2></center>"
   ]
  },
  {
   "cell_type": "markdown",
   "metadata": {},
   "source": [
    "Tenzin Choklang <br>\n",
    "Justin Park"
   ]
  }
 ],
 "metadata": {
  "kernelspec": {
   "display_name": "Python 3",
   "language": "python",
   "name": "python3"
  },
  "language_info": {
   "codemirror_mode": {
    "name": "ipython",
    "version": 3
   },
   "file_extension": ".py",
   "mimetype": "text/x-python",
   "name": "python",
   "nbconvert_exporter": "python",
   "pygments_lexer": "ipython3",
   "version": "3.7.6"
  }
 },
 "nbformat": 4,
 "nbformat_minor": 4
}
