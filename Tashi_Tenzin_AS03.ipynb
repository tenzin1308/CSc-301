{
 "cells": [
  {
   "cell_type": "markdown",
   "metadata": {},
   "source": [
    "# Tenzin Tashi\n",
    "## CSc 301\n",
    "### Assignment 3"
   ]
  },
  {
   "cell_type": "markdown",
   "metadata": {},
   "source": [
    "<center> <h3> Math </h3> </center>"
   ]
  },
  {
   "cell_type": "markdown",
   "metadata": {},
   "source": [
    "$$ T_n(x) = \\sum \\limits _{k=0} ^{n} \\frac{f^{(k)}(0)}{k!} (x)^k $$ <br>\n",
    "$$ f(x) = cos(x) \\rightarrow f(0) = 1 $$ <br>\n",
    "$$ f^{'}(x) = -sin(x) \\rightarrow f^{'}(0) = 0 $$ <br>\n",
    "$$ f^{''}(x) = -cos(x) \\rightarrow f^{''}(0) = -1 $$ <br>\n",
    "$$ f^{'''}(x) = sin(x) \\rightarrow f^{'''}(0) = 0 $$ <br>\n",
    "$$ f^{''''}(x) = cos(x) \\rightarrow f^{''''}(0) = 1 $$ <br><br>"
   ]
  },
  {
   "cell_type": "markdown",
   "metadata": {},
   "source": [
    "<center> <h3> Code </h3> </center>"
   ]
  },
  {
   "cell_type": "code",
   "execution_count": 1,
   "metadata": {},
   "outputs": [],
   "source": [
    "# import the libery\n",
    "import numpy as np"
   ]
  },
  {
   "cell_type": "code",
   "execution_count": 2,
   "metadata": {},
   "outputs": [],
   "source": [
    "# function to find the taylor series of cos(x)\n",
    "def taylor_sum(x):\n",
    "    signs = [1, 0, -1, 0]\n",
    "    terms = 64\n",
    "    funct = 'cos'\n",
    "    exact = np.cos(x)\n",
    "    error_bound = None\n",
    "    \n",
    "    numer = np.zeros(terms)\n",
    "    denom = np.zeros(terms)\n",
    "    term = np.zeros(terms) \n",
    "    tsum = np.zeros(terms)\n",
    "    abserr = np.zeros(terms)\n",
    "\n",
    "    print (\" x = % 3.2f\" % x) \n",
    "    print (funct,\"(x) = % 13.6e\" % exact)\n",
    "    print (\"\")\n",
    "    print (\"  n   s    numerator    denominator      term       Taylor sum   Absolute Error\",\"\\n\")\n",
    "\n",
    "    for i in range(0,terms):\n",
    "\n",
    "        s = signs[i % 4] \n",
    "\n",
    "        numer[i] = s * x**i \n",
    "\n",
    "        denom[i] = np.math.factorial(i)\n",
    "\n",
    "\n",
    "        term[i] = numer[i]/denom[i]\n",
    "\n",
    "\n",
    "        if (i == 0):\n",
    "            tsum[i] = term[i] \n",
    "        else:\n",
    "            tsum[i] = tsum[i-1] + term[i] \n",
    "\n",
    "\n",
    "        abserr[i] = exact - tsum[i]\n",
    "\n",
    "        print (\"% 3d\" % i,\n",
    "                   \"% 3d\" % s,\n",
    "                   \"% 13.6e\" % numer[i],\n",
    "                   \"% 13.6e\" % denom[i],\n",
    "                   \"% 13.6e\" % term[i],\n",
    "                   \"% 13.6e\" % tsum[i],\n",
    "                   \"% 13.6e\" % abserr[i])\n",
    "        if (abs(abserr[i]) < 10**(-12)):\n",
    "            print()\n",
    "            error_bound = x**(i+1)/np.math.factorial(i+1)\n",
    "            print(\"Error Bound = -%12.6e \" % error_bound,\"<= R_n <= % 12.6e\" % error_bound)\n",
    "            break\n",
    "    print(80*'-')"
   ]
  },
  {
   "cell_type": "code",
   "execution_count": 3,
   "metadata": {
    "scrolled": false
   },
   "outputs": [
    {
     "name": "stdout",
     "output_type": "stream",
     "text": [
      " x =  0.10\n",
      "cos (x) =  9.950042e-01\n",
      "\n",
      "  n   s    numerator    denominator      term       Taylor sum   Absolute Error \n",
      "\n",
      "  0   1  1.000000e+00  1.000000e+00  1.000000e+00  1.000000e+00 -4.995835e-03\n",
      "  1   0  0.000000e+00  1.000000e+00  0.000000e+00  1.000000e+00 -4.995835e-03\n",
      "  2  -1 -1.000000e-02  2.000000e+00 -5.000000e-03  9.950000e-01  4.165278e-06\n",
      "  3   0  0.000000e+00  6.000000e+00  0.000000e+00  9.950000e-01  4.165278e-06\n",
      "  4   1  1.000000e-04  2.400000e+01  4.166667e-06  9.950042e-01 -1.388641e-09\n",
      "  5   0  0.000000e+00  1.200000e+02  0.000000e+00  9.950042e-01 -1.388641e-09\n",
      "  6  -1 -1.000000e-06  7.200000e+02 -1.388889e-09  9.950042e-01  2.479128e-13\n",
      "\n",
      "Error Bound = -1.984127e-11  <= R_n <=  1.984127e-11\n",
      "--------------------------------------------------------------------------------\n",
      "\n",
      " x =  0.20\n",
      "cos (x) =  9.800666e-01\n",
      "\n",
      "  n   s    numerator    denominator      term       Taylor sum   Absolute Error \n",
      "\n",
      "  0   1  1.000000e+00  1.000000e+00  1.000000e+00  1.000000e+00 -1.993342e-02\n",
      "  1   0  0.000000e+00  1.000000e+00  0.000000e+00  1.000000e+00 -1.993342e-02\n",
      "  2  -1 -4.000000e-02  2.000000e+00 -2.000000e-02  9.800000e-01  6.657784e-05\n",
      "  3   0  0.000000e+00  6.000000e+00  0.000000e+00  9.800000e-01  6.657784e-05\n",
      "  4   1  1.600000e-03  2.400000e+01  6.666667e-05  9.800667e-01 -8.882543e-08\n",
      "  5   0  0.000000e+00  1.200000e+02  0.000000e+00  9.800667e-01 -8.882543e-08\n",
      "  6  -1 -6.400000e-05  7.200000e+02 -8.888889e-08  9.800666e-01  6.346390e-11\n",
      "  7   0  0.000000e+00  5.040000e+03  0.000000e+00  9.800666e-01  6.346390e-11\n",
      "  8   1  2.560000e-06  4.032000e+04  6.349206e-11  9.800666e-01 -2.819966e-14\n",
      "\n",
      "Error Bound = -1.410935e-12  <= R_n <=  1.410935e-12\n",
      "--------------------------------------------------------------------------------\n",
      "\n",
      " x =  0.30\n",
      "cos (x) =  9.553365e-01\n",
      "\n",
      "  n   s    numerator    denominator      term       Taylor sum   Absolute Error \n",
      "\n",
      "  0   1  1.000000e+00  1.000000e+00  1.000000e+00  1.000000e+00 -4.466351e-02\n",
      "  1   0  0.000000e+00  1.000000e+00  0.000000e+00  1.000000e+00 -4.466351e-02\n",
      "  2  -1 -9.000000e-02  2.000000e+00 -4.500000e-02  9.550000e-01  3.364891e-04\n",
      "  3   0  0.000000e+00  6.000000e+00  0.000000e+00  9.550000e-01  3.364891e-04\n",
      "  4   1  8.100000e-03  2.400000e+01  3.375000e-04  9.553375e-01 -1.010874e-06\n",
      "  5   0  0.000000e+00  1.200000e+02  0.000000e+00  9.553375e-01 -1.010874e-06\n",
      "  6  -1 -7.290000e-04  7.200000e+02 -1.012500e-06  9.553365e-01  1.625606e-09\n",
      "  7   0  0.000000e+00  5.040000e+03  0.000000e+00  9.553365e-01  1.625606e-09\n",
      "  8   1  6.561000e-05  4.032000e+04  1.627232e-09  9.553365e-01 -1.626144e-12\n",
      "  9   0  0.000000e+00  3.628800e+05  0.000000e+00  9.553365e-01 -1.626144e-12\n",
      " 10  -1 -5.904900e-06  3.628800e+06 -1.627232e-12  9.553365e-01  1.110223e-15\n",
      "\n",
      "Error Bound = -4.437906e-14  <= R_n <=  4.437906e-14\n",
      "--------------------------------------------------------------------------------\n",
      "\n",
      " x =  0.40\n",
      "cos (x) =  9.210610e-01\n",
      "\n",
      "  n   s    numerator    denominator      term       Taylor sum   Absolute Error \n",
      "\n",
      "  0   1  1.000000e+00  1.000000e+00  1.000000e+00  1.000000e+00 -7.893901e-02\n",
      "  1   0  0.000000e+00  1.000000e+00  0.000000e+00  1.000000e+00 -7.893901e-02\n",
      "  2  -1 -1.600000e-01  2.000000e+00 -8.000000e-02  9.200000e-01  1.060994e-03\n",
      "  3   0  0.000000e+00  6.000000e+00  0.000000e+00  9.200000e-01  1.060994e-03\n",
      "  4   1  2.560000e-02  2.400000e+01  1.066667e-03  9.210667e-01 -5.672664e-06\n",
      "  5   0  0.000000e+00  1.200000e+02  0.000000e+00  9.210667e-01 -5.672664e-06\n",
      "  6  -1 -4.096000e-03  7.200000e+02 -5.688889e-06  9.210610e-01  1.622511e-08\n",
      "  7   0  0.000000e+00  5.040000e+03  0.000000e+00  9.210610e-01  1.622511e-08\n",
      "  8   1  6.553600e-04  4.032000e+04  1.625397e-08  9.210610e-01 -2.886091e-11\n",
      "  9   0  0.000000e+00  3.628800e+05  0.000000e+00  9.210610e-01 -2.886091e-11\n",
      " 10  -1 -1.048576e-04  3.628800e+06 -2.889594e-11  9.210610e-01  3.508305e-14\n",
      "\n",
      "Error Bound = -1.050762e-12  <= R_n <=  1.050762e-12\n",
      "--------------------------------------------------------------------------------\n",
      "\n"
     ]
    }
   ],
   "source": [
    "X = [0.1, 0.2, 0.3, 0.4]\n",
    "for x in X:\n",
    "    taylor_sum(x)\n",
    "    print()\n",
    "   "
   ]
  },
  {
   "cell_type": "markdown",
   "metadata": {},
   "source": [
    "<center><h3>Discussion</h3></center>"
   ]
  },
  {
   "cell_type": "markdown",
   "metadata": {},
   "source": [
    "<p>A Taylor polynomial approximates the value of a function, and in many cases, it's helpful to measure the accuracy of an approximation. This information is provided by the Taylor remainder term:\n",
    "    $$f(x) = T_n(x) + R_n(x) $$\n",
    "where $$ R_n(x) = \\frac{f^{(n+1)}(c)}{(n+1)!}(x-a)^{n+1} $$\n",
    "    c between a and x <br>\n",
    "<br>\n",
    "    We can use this to bound the error in an approximation that uses a Taylor polynomial.\n",
    "    <br><br>\n",
    "    $$|R_n(x)| \\leq \\frac{max|f^{n+1}(z)|}{(n+1)!}|x-a|^{n+1}$$\n",
    "    <br><br>\n",
    "    Thus, the remainder term predicts that the approximate value calculated earlier will be within the error bound of the actual value. And in fact, we can see, the approximation is withing the error bounds predicated by the remainder term in the above code.\n",
    "    \n",
    "</p>"
   ]
  }
 ],
 "metadata": {
  "kernelspec": {
   "display_name": "Python 3",
   "language": "python",
   "name": "python3"
  },
  "language_info": {
   "codemirror_mode": {
    "name": "ipython",
    "version": 3
   },
   "file_extension": ".py",
   "mimetype": "text/x-python",
   "name": "python",
   "nbconvert_exporter": "python",
   "pygments_lexer": "ipython3",
   "version": "3.7.6"
  }
 },
 "nbformat": 4,
 "nbformat_minor": 4
}
