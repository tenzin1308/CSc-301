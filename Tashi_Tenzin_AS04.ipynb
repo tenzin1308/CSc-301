{
 "cells": [
  {
   "cell_type": "markdown",
   "metadata": {},
   "source": [
    "# Tenzin Tashi\n",
    "## CSc 301\n",
    "### Assignment 4"
   ]
  },
  {
   "cell_type": "markdown",
   "metadata": {},
   "source": [
    "<center> <h3> Math </h3> </center>"
   ]
  },
  {
   "cell_type": "markdown",
   "metadata": {},
   "source": [
    "$$ \\int_a^b f(x) dx $$ \n",
    "<br>\n",
    "<strong> <center>Simpson's rule</center> </strong><br>\n",
    "$$ \\int_a^b f(x) dx \\approx \\frac{h}{3} \\Bigg[ f(a) + 4 f(\\frac{a+b}{2}) + f(b) \\Bigg] - \\frac{(b - a)*h^4}{180}f''''(\\xi)$$\n",
    "<br>\n",
    "$$ S(a,b) = \\frac{h}{3} \\Bigg[ f(a) + 4 f(\\frac{a+b}{2}) + f(b) \\Bigg] - \\frac{(b - a)*h^4}{180}f''''(\\xi)$$\n",
    "<br>\n",
    "<strong> <center>Composite Simpson's rule</center> </strong>\n",
    "<br>\n",
    "$$ Let \\ c = b - a $$\n",
    "<br>\n",
    "$$ S_0 (a, b) = S(a, b)$$\n",
    "<br>\n",
    "$$ S_1 (a, b) = S\\Big(a, a + \\frac{c}{2}\\Big) + S\\Big(a + \\frac{c}{2}, b\\Big)$$\n",
    "<br>\n",
    "$$ S_2 (a, b) = S\\Big(a, a + \\frac{c}{4}\\Big) + S\\Big(a + \\frac{c}{4}, a + \\frac{c}{2}\\Big) + S\\Big(a + \\frac{c}{2}, a + \\frac{3c}{4}\\Big) + S\\Big(a + \\frac{3c}{4}, b\\Big)$$\n",
    "<br>\n",
    "<b>We can estimate the error in $$S_n (a, b) = |S_n (a,b) - S_{n-1} (a, b) |$$</b>"
   ]
  },
  {
   "cell_type": "code",
   "execution_count": 1,
   "metadata": {},
   "outputs": [],
   "source": [
    "# import the libery\n",
    "import numpy as np\n",
    "from scipy.misc import derivative\n",
    "from scipy import integrate"
   ]
  },
  {
   "cell_type": "code",
   "execution_count": 2,
   "metadata": {},
   "outputs": [],
   "source": [
    "def simpson_rule(f, a, b):\n",
    "    '''Approximate the integral of f(x) from a to b by Simpson's rule.\n",
    "\n",
    "    Simpson's rule approximates the integral \\int_a^b f(x) dx by the sum,\n",
    "    as shown above in the Math section, where h = \\frac{b-a}{2}.\n",
    "\n",
    "    Parameters\n",
    "    ----------\n",
    "    f : function\n",
    "        Vectorized function of a single variable\n",
    "    a , b : numbers\n",
    "        Interval of integration [a,b]\n",
    "\n",
    "    Returns\n",
    "    -------\n",
    "    float\n",
    "        Approximation of the integral of f(x) from a to b using\n",
    "        Simpson's rule.\n",
    "        \n",
    "    '''\n",
    "    h = (b - a)/2\n",
    "    return h*(f(a) + 4*f((a + b)/2) +f(b))/3 - (h**4)*(derivative(f,2.0,dx=4))/180\n",
    "    "
   ]
  },
  {
   "cell_type": "code",
   "execution_count": 3,
   "metadata": {},
   "outputs": [],
   "source": [
    "def composite_simpson(f, a, b, EB):\n",
    "    '''Approximate the integral of f(x) from a to b within the error \n",
    "    bound of EB using Simpson's rule.\n",
    "\n",
    "    The math for Composite Simpson's rule formula is shown above.\n",
    "\n",
    "    Parameters\n",
    "    ----------\n",
    "    f : function\n",
    "        Vectorized function of a single variable\n",
    "    a , b : numbers\n",
    "        Interval of integration [a,b]\n",
    "    EB : number\n",
    "        Value for the error bound\n",
    "\n",
    "    Returns\n",
    "    -------\n",
    "    float, Int\n",
    "        Approximation of the integral of f(x) from a to b which is \n",
    "        within the error bound using Simpson's rule, and the number \n",
    "        if intervals needed for it.\n",
    "        \n",
    "    '''\n",
    "    N = 0 # start the number of interval from 0\n",
    "    S = list() # a list that hold the integral value for increasing interval\n",
    "    c = b - a\n",
    "    interval = int\n",
    "    flag = True\n",
    "    while flag: # loop untill we are in the error bound\n",
    "        Si = 0 # simpson's integral for ith interval\n",
    "        interval = 2**N\n",
    "        s = a # start of the interval\n",
    "        e = a + c/interval # end of the interval\n",
    "        for _ in range(interval):\n",
    "            Si += simpson_rule(f,s, s + c/interval)\n",
    "            s = e\n",
    "            e += c/interval\n",
    "        S.append(Si)\n",
    "        if N != 0:\n",
    "            if np.abs(S[N] - S[N-1]) < EB:\n",
    "                return S.pop(), N\n",
    "        N += 1"
   ]
  },
  {
   "cell_type": "code",
   "execution_count": 4,
   "metadata": {},
   "outputs": [],
   "source": [
    "def adaptive_quadrature(f, a, b, tol):\n",
    "    '''\n",
    "    Evaluates the integral of f(x) on [a,b].\n",
    "\n",
    "    Parameters\n",
    "    ----------\n",
    "        f         - function to integrate\n",
    "        a, b      - left and right endpoints of interval of integration\n",
    "        tol       - desired upper bound on allowable error\n",
    "\n",
    "    Returns\n",
    "    -------\n",
    "        float     - the value of the integral\n",
    "        Int       - the number of intervals\n",
    "        \n",
    "    '''\n",
    "    \n",
    "    N = 0\n",
    "    APP = 0\n",
    "    i = 1\n",
    "    TOL = [0] * 2000\n",
    "    TOL.insert(i, 10 * tol) # not sure\n",
    "    ai = [0] * 2000\n",
    "    ai.insert(i, a)\n",
    "    h = [0] * 2000\n",
    "    h.insert(i, (b-a)/2)\n",
    "    FA = [0]* 2000\n",
    "    FA.insert(i, f(a))\n",
    "    FC = [0] * 2000\n",
    "    FC.insert(i, f(a + h[i]))\n",
    "    FB = [0] * 2000\n",
    "    FB.insert(i, f(b))\n",
    "    S = [0] * 2000\n",
    "    S.insert(i, h[i]*(FA[i] + 4*FC[i] + FB[i]) / 3)\n",
    "\n",
    "    L = [0] * 2000\n",
    "    L.append(1)\n",
    "\n",
    "    # Step 2: while loop steps  3-5\n",
    "    while (i > 0):\n",
    "        # Step 3\n",
    "        FD = f(ai[i] + (h[i]/2))\n",
    "        FE = f(ai[i] + (3*h[i])/2)\n",
    "        S1 = h[i]*(FA[i] + 4*FD + FC[i]) / 6\n",
    "        S2 = h[i]*(FC[i] + 4*FE + FB[i]) / 6\n",
    "        v1 = ai[i]\n",
    "        v2 = FA[i]\n",
    "        v3 = FC[i]\n",
    "        v4 = FB[i]\n",
    "        v5 = h[i]\n",
    "        v6 = TOL[i]\n",
    "        v7 = S[i]\n",
    "        v8 = L[i]\n",
    "\n",
    "        # Step 4\n",
    "        i -= 1\n",
    "\n",
    "        # Step 5\n",
    "        if (abs(S1 + S2 - v7) < v6):\n",
    "            APP = APP + (S1 + S2)\n",
    "        else: \n",
    "            i += 1 # Data for right-half subinterval\n",
    "            ai[i] = v1 + v5\n",
    "            FA[i] = v3\n",
    "            FC[i] = FE\n",
    "            FB[i] = v4\n",
    "            h[i] = v5/2\n",
    "            TOL[i] = v6/2\n",
    "            S[i] = S2\n",
    "            L[i] = v8 + 1\n",
    "\n",
    "            i += 1 # Data for left-half subinterval\n",
    "            ai[i] = v1\n",
    "            FA[i] = v2\n",
    "            FC[i] = FD\n",
    "            FB[i] = v3\n",
    "            h[i] = h[i-1]\n",
    "            TOL[i] = TOL[i-1]\n",
    "            S[i] = S1\n",
    "            L[i] = L[i-1]\n",
    "            N += 1\n",
    "\n",
    "    # Step 6: OUTPUT (APP) \n",
    "    return APP, N"
   ]
  },
  {
   "cell_type": "code",
   "execution_count": 5,
   "metadata": {},
   "outputs": [
    {
     "name": "stdout",
     "output_type": "stream",
     "text": [
      "Method                        Integral Value      Exact Value              Abs Error                Steps\n",
      "Composite Simpsons Rule:   -1.4260247557378427   -1.426024756346262     6.08419314929165e-10        1024\n",
      "Adaptive quadrature :      -1.4260247550720377   -1.426024756346262     1.274224281644365e-09        262\n"
     ]
    }
   ],
   "source": [
    "if __name__ == '__main__':\n",
    "    f = lambda x: (100/x**2)*np.sin(10/x)\n",
    "    exact_value = integrate.quad(f, 1, 3)[0]\n",
    "    simp, N = composite_simpson(f, 1, 3, 10**(-8))\n",
    "    adap, M = adaptive_quadrature(f, 1, 3, 10**(-8))\n",
    "    abs_err_simp = np.abs(exact_value - simp)\n",
    "    abs_err_adap = np.abs(exact_value - adap)\n",
    "    print(f'{\"Method\":30}{\"Integral Value\":20}{\"Exact Value\":25}{\"Abs Error\":25}{\"Steps\":5}')\n",
    "    print(f'{\"Composite Simpsons Rule:\":25} {simp:20} {exact_value:20} {abs_err_simp:24} {2**N:11}')\n",
    "    print(f'{\"Adaptive quadrature :\":26} {adap:10} {exact_value:20}  {abs_err_adap:24} {M:10}')\n",
    "    "
   ]
  },
  {
   "cell_type": "markdown",
   "metadata": {},
   "source": [
    "##### <center><h3>Discussion</h3></center>"
   ]
  },
  {
   "cell_type": "markdown",
   "metadata": {},
   "source": [
    "<p>Integral of a function can be found by different methods. In this assignment we have looked into the two methods namely, composite simpson's rule and adaptive quadrature.<br>\n",
    "    <strong>Composite simpson's rule</strong> divides the area of the function into equal number of smaller units. This smaller units are called the interval which is calculated as shown in the above math section as 2^n, where n is the interval. After dividing it into smaller units we applied the simpson's rule to every units. The summation of all this smaller units will give us the integral of the original function.<br>\n",
    "    <strong>Adaptive quadrature </strong> is an extension of the composite simpson's rule. In this method we divide the intevals into futher sub-intervals <strong>(where needed)</strong>, due to which it increase the accuracy of this method.</p>\n",
    "    <br>\n",
    "    <strong>NOTE:</strong> To get the result with same error bound we can see in the above output that composite simpson's rule makes a sub-interval of 1024 where as adaptive quadrature only takes 262 intervals."
   ]
  }
 ],
 "metadata": {
  "kernelspec": {
   "display_name": "Python 3",
   "language": "python",
   "name": "python3"
  },
  "language_info": {
   "codemirror_mode": {
    "name": "ipython",
    "version": 3
   },
   "file_extension": ".py",
   "mimetype": "text/x-python",
   "name": "python",
   "nbconvert_exporter": "python",
   "pygments_lexer": "ipython3",
   "version": "3.7.6"
  }
 },
 "nbformat": 4,
 "nbformat_minor": 4
}
